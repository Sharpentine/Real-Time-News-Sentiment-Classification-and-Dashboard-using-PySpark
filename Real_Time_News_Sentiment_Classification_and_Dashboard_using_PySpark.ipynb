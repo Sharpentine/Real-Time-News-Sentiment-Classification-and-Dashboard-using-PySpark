{
  "nbformat": 4,
  "nbformat_minor": 0,
  "metadata": {
    "colab": {
      "provenance": []
    },
    "kernelspec": {
      "name": "python3",
      "display_name": "Python 3"
    },
    "language_info": {
      "name": "python"
    }
  },
  "cells": [
    {
      "cell_type": "markdown",
      "source": [
        "##Step 1: Install Dependencies\n"
      ],
      "metadata": {
        "id": "s4eAosSFHlNJ"
      }
    },
    {
      "cell_type": "code",
      "execution_count": 1,
      "metadata": {
        "colab": {
          "base_uri": "https://localhost:8080/"
        },
        "id": "ytuKlb9XHMKe",
        "outputId": "dc43b047-ac9f-48d0-ae82-09a57ede96f1"
      },
      "outputs": [
        {
          "output_type": "stream",
          "name": "stdout",
          "text": [
            "Requirement already satisfied: pyspark in /usr/local/lib/python3.12/dist-packages (3.5.1)\n",
            "Requirement already satisfied: textblob in /usr/local/lib/python3.12/dist-packages (0.19.0)\n",
            "Collecting newsapi-python\n",
            "  Downloading newsapi_python-0.2.7-py2.py3-none-any.whl.metadata (1.2 kB)\n",
            "Requirement already satisfied: py4j==0.10.9.7 in /usr/local/lib/python3.12/dist-packages (from pyspark) (0.10.9.7)\n",
            "Requirement already satisfied: nltk>=3.9 in /usr/local/lib/python3.12/dist-packages (from textblob) (3.9.1)\n",
            "Requirement already satisfied: requests<3.0.0 in /usr/local/lib/python3.12/dist-packages (from newsapi-python) (2.32.4)\n",
            "Requirement already satisfied: click in /usr/local/lib/python3.12/dist-packages (from nltk>=3.9->textblob) (8.2.1)\n",
            "Requirement already satisfied: joblib in /usr/local/lib/python3.12/dist-packages (from nltk>=3.9->textblob) (1.5.2)\n",
            "Requirement already satisfied: regex>=2021.8.3 in /usr/local/lib/python3.12/dist-packages (from nltk>=3.9->textblob) (2024.11.6)\n",
            "Requirement already satisfied: tqdm in /usr/local/lib/python3.12/dist-packages (from nltk>=3.9->textblob) (4.67.1)\n",
            "Requirement already satisfied: charset_normalizer<4,>=2 in /usr/local/lib/python3.12/dist-packages (from requests<3.0.0->newsapi-python) (3.4.3)\n",
            "Requirement already satisfied: idna<4,>=2.5 in /usr/local/lib/python3.12/dist-packages (from requests<3.0.0->newsapi-python) (3.10)\n",
            "Requirement already satisfied: urllib3<3,>=1.21.1 in /usr/local/lib/python3.12/dist-packages (from requests<3.0.0->newsapi-python) (2.5.0)\n",
            "Requirement already satisfied: certifi>=2017.4.17 in /usr/local/lib/python3.12/dist-packages (from requests<3.0.0->newsapi-python) (2025.8.3)\n",
            "Downloading newsapi_python-0.2.7-py2.py3-none-any.whl (7.9 kB)\n",
            "Installing collected packages: newsapi-python\n",
            "Successfully installed newsapi-python-0.2.7\n"
          ]
        }
      ],
      "source": [
        "!pip install pyspark textblob newsapi-python"
      ]
    },
    {
      "cell_type": "markdown",
      "source": [
        "##Step 2: Imports and Spark Session Setup\n"
      ],
      "metadata": {
        "id": "pWkn6yxYHrpL"
      }
    },
    {
      "cell_type": "code",
      "source": [
        "import os\n",
        "import requests\n",
        "from pyspark.sql import SparkSession\n",
        "from pyspark.sql.functions import udf\n",
        "from pyspark.sql.types import StringType\n",
        "from textblob import TextBlob\n",
        "from typing import List, Dict\n",
        "from getpass import getpass\n",
        "\n",
        "spark = (\n",
        "    SparkSession.builder\n",
        "    .appName(\"ColabNewsSentimentAnalysis\")\n",
        "    .master(\"local[*]\")\n",
        "    .getOrCreate()\n",
        ")"
      ],
      "metadata": {
        "id": "0LUPtzdIHsoO"
      },
      "execution_count": 4,
      "outputs": []
    },
    {
      "cell_type": "markdown",
      "source": [
        "##Step 3: News Fetching Function\n"
      ],
      "metadata": {
        "id": "h3zH3GDTH2tF"
      }
    },
    {
      "cell_type": "code",
      "source": [
        "def fetch_latest_news(api_key: str, query: str = 'technology') -> list[dict]:\n",
        "    url = f\"https://newsdata.io/api/1/news?apikey={api_key}&q={query}&language=en\"\n",
        "\n",
        "    try:\n",
        "        response = requests.get(url)\n",
        "        response.raise_for_status()\n",
        "        data = response.json()\n",
        "\n",
        "        articles = data.get('results', [])\n",
        "\n",
        "        formatted_articles = [\n",
        "            {\n",
        "                \"title\": article.get(\"title\"),\n",
        "                \"description\": article.get(\"description\"),\n",
        "                \"url\": article.get(\"link\"),\n",
        "                \"source\": article.get(\"source_id\")\n",
        "            }\n",
        "            for article in articles if article.get(\"title\")\n",
        "        ]\n",
        "        return formatted_articles\n",
        "\n",
        "    except requests.exceptions.RequestException as e:\n",
        "        print(f\"Error fetching news: {e}\")\n",
        "        return []\n",
        "\n",
        "NEWSDATA_API_KEY = getpass('Enter your newsdata.io API key: ')"
      ],
      "metadata": {
        "colab": {
          "base_uri": "https://localhost:8080/"
        },
        "id": "bJV3wJhuH021",
        "outputId": "fda8df78-fbf5-40a5-9131-94b6f46b04e3"
      },
      "execution_count": 5,
      "outputs": [
        {
          "name": "stdout",
          "output_type": "stream",
          "text": [
            "Enter your newsdata.io API key: ··········\n"
          ]
        }
      ]
    },
    {
      "cell_type": "markdown",
      "source": [
        "##Step 4: Sentiment Analysis"
      ],
      "metadata": {
        "id": "bVyyzUA3Iosq"
      }
    },
    {
      "cell_type": "code",
      "metadata": {
        "id": "7dc9f673"
      },
      "source": [
        "def classify_sentiment(text: str) -> str:\n",
        "    if not text:\n",
        "        return 'Neutral'\n",
        "    analysis = TextBlob(text)\n",
        "    polarity = analysis.sentiment.polarity\n",
        "    if polarity > 0.1:\n",
        "        return 'Positive'\n",
        "    elif polarity < -0.1:\n",
        "        return 'Negative'\n",
        "    else:\n",
        "        return 'Neutral'\n",
        "\n",
        "def analyze_news_sentiment(articles: List[Dict]) -> List[Dict]:\n",
        "    if not articles:\n",
        "        return []\n",
        "\n",
        "    news_df = spark.createDataFrame(articles)\n",
        "\n",
        "    sentiment_udf = udf(classify_sentiment, StringType())\n",
        "\n",
        "    classified_df = news_df.withColumn(\"sentiment\", sentiment_udf(news_df[\"title\"]))\n",
        "\n",
        "    results = [row.asDict() for row in classified_df.collect()]\n",
        "    return results"
      ],
      "execution_count": 10,
      "outputs": []
    },
    {
      "cell_type": "code",
      "source": [
        "print(\"Fetching latest news from newsdata.io...\")\n",
        "raw_articles = fetch_latest_news(NEWSDATA_API_KEY, query='finance')\n",
        "\n",
        "if raw_articles:\n",
        "    print(f\"Fetched {len(raw_articles)} articles. Analyzing sentiment with PySpark...\")\n",
        "    classified_articles = analyze_news_sentiment(raw_articles)\n",
        "    print(\"Analysis complete!\")\n",
        "\n",
        "    for article in classified_articles[:5]:\n",
        "        print(f\"\\nTitle: {article['title']}\")\n",
        "        print(f\"Sentiment: {article['sentiment']}\")\n",
        "else:\n",
        "    print(\"Could not fetch any articles.\")"
      ],
      "metadata": {
        "colab": {
          "base_uri": "https://localhost:8080/"
        },
        "id": "SnYKlCSWIlsZ",
        "outputId": "a52ef70b-5fc7-4404-c2bf-f521d41b1661"
      },
      "execution_count": 11,
      "outputs": [
        {
          "output_type": "stream",
          "name": "stdout",
          "text": [
            "Fetching latest news from newsdata.io...\n",
            "Fetched 10 articles. Analyzing sentiment with PySpark...\n",
            "Analysis complete!\n",
            "\n",
            "Title: GST 2.0 Boost: OECD Lifts India’s FY26 Growth Forecast To 6.7%; S&P Retains 6.5%\n",
            "Sentiment: Neutral\n",
            "\n",
            "Title: 'No Racism, Instant Medical Access': Expat Shares Why Moving Back To India Was The Best Decision\n",
            "Sentiment: Positive\n",
            "\n",
            "Title: Stocks To Buy Today, Sept 24: Top Picks By Riyank Arora of Mehta Equities For Profitable Trading On Wednesday\n",
            "Sentiment: Positive\n",
            "\n",
            "Title: Trump administration threatens further sanctions in escalating fight with Harvard\n",
            "Sentiment: Neutral\n",
            "\n",
            "Title: 14 killed by lake burst in Taiwan as Typhoon Ragasa wreaks havoc\n",
            "Sentiment: Negative\n"
          ]
        }
      ]
    }
  ]
}