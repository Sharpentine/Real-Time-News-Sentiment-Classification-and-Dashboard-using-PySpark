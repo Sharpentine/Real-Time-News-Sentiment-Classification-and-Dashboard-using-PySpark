{
  "nbformat": 4,
  "nbformat_minor": 0,
  "metadata": {
    "colab": {
      "provenance": []
    },
    "kernelspec": {
      "name": "python3",
      "display_name": "Python 3"
    },
    "language_info": {
      "name": "python"
    },
    "widgets": {
      "application/vnd.jupyter.widget-state+json": {
        "ccecce85a16e4d61a088a01a73dd8c14": {
          "model_module": "@jupyter-widgets/controls",
          "model_name": "VBoxModel",
          "model_module_version": "1.5.0",
          "state": {
            "_dom_classes": [],
            "_model_module": "@jupyter-widgets/controls",
            "_model_module_version": "1.5.0",
            "_model_name": "VBoxModel",
            "_view_count": null,
            "_view_module": "@jupyter-widgets/controls",
            "_view_module_version": "1.5.0",
            "_view_name": "VBoxView",
            "box_style": "",
            "children": [
              "IPY_MODEL_a480ca5f5cde49298f4be74e9c0eb8e7",
              "IPY_MODEL_4d889317b5c14e298f199436d506dbf7"
            ],
            "layout": "IPY_MODEL_76e9530cbf634ee8ae8362a9fe3de307"
          }
        },
        "a480ca5f5cde49298f4be74e9c0eb8e7": {
          "model_module": "@jupyter-widgets/controls",
          "model_name": "DropdownModel",
          "model_module_version": "1.5.0",
          "state": {
            "_dom_classes": [],
            "_model_module": "@jupyter-widgets/controls",
            "_model_module_version": "1.5.0",
            "_model_name": "DropdownModel",
            "_options_labels": [
              "Positive",
              "Neutral",
              "Negative"
            ],
            "_view_count": null,
            "_view_module": "@jupyter-widgets/controls",
            "_view_module_version": "1.5.0",
            "_view_name": "DropdownView",
            "description": "Sentiment:",
            "description_tooltip": null,
            "disabled": false,
            "index": 0,
            "layout": "IPY_MODEL_7d87a93977fb48099addd40e5fc9d812",
            "style": "IPY_MODEL_55320cfb702642b293d7cd8e5d0661b2"
          }
        },
        "4d889317b5c14e298f199436d506dbf7": {
          "model_module": "@jupyter-widgets/output",
          "model_name": "OutputModel",
          "model_module_version": "1.0.0",
          "state": {
            "_dom_classes": [],
            "_model_module": "@jupyter-widgets/output",
            "_model_module_version": "1.0.0",
            "_model_name": "OutputModel",
            "_view_count": null,
            "_view_module": "@jupyter-widgets/output",
            "_view_module_version": "1.0.0",
            "_view_name": "OutputView",
            "layout": "IPY_MODEL_a2b3998024544c3fb65a61c1468d3845",
            "msg_id": "",
            "outputs": [
              {
                "output_type": "stream",
                "name": "stdout",
                "text": [
                  "Articles with Positive sentiment:\n",
                  "- Fergus Wilson: ‘I’ve got months to live - but I want my day in court’\n",
                  "- 11 of the best hotels in Goa\n"
                ]
              }
            ]
          }
        },
        "76e9530cbf634ee8ae8362a9fe3de307": {
          "model_module": "@jupyter-widgets/base",
          "model_name": "LayoutModel",
          "model_module_version": "1.2.0",
          "state": {
            "_model_module": "@jupyter-widgets/base",
            "_model_module_version": "1.2.0",
            "_model_name": "LayoutModel",
            "_view_count": null,
            "_view_module": "@jupyter-widgets/base",
            "_view_module_version": "1.2.0",
            "_view_name": "LayoutView",
            "align_content": null,
            "align_items": null,
            "align_self": null,
            "border": null,
            "bottom": null,
            "display": null,
            "flex": null,
            "flex_flow": null,
            "grid_area": null,
            "grid_auto_columns": null,
            "grid_auto_flow": null,
            "grid_auto_rows": null,
            "grid_column": null,
            "grid_gap": null,
            "grid_row": null,
            "grid_template_areas": null,
            "grid_template_columns": null,
            "grid_template_rows": null,
            "height": null,
            "justify_content": null,
            "justify_items": null,
            "left": null,
            "margin": null,
            "max_height": null,
            "max_width": null,
            "min_height": null,
            "min_width": null,
            "object_fit": null,
            "object_position": null,
            "order": null,
            "overflow": null,
            "overflow_x": null,
            "overflow_y": null,
            "padding": null,
            "right": null,
            "top": null,
            "visibility": null,
            "width": null
          }
        },
        "7d87a93977fb48099addd40e5fc9d812": {
          "model_module": "@jupyter-widgets/base",
          "model_name": "LayoutModel",
          "model_module_version": "1.2.0",
          "state": {
            "_model_module": "@jupyter-widgets/base",
            "_model_module_version": "1.2.0",
            "_model_name": "LayoutModel",
            "_view_count": null,
            "_view_module": "@jupyter-widgets/base",
            "_view_module_version": "1.2.0",
            "_view_name": "LayoutView",
            "align_content": null,
            "align_items": null,
            "align_self": null,
            "border": null,
            "bottom": null,
            "display": null,
            "flex": null,
            "flex_flow": null,
            "grid_area": null,
            "grid_auto_columns": null,
            "grid_auto_flow": null,
            "grid_auto_rows": null,
            "grid_column": null,
            "grid_gap": null,
            "grid_row": null,
            "grid_template_areas": null,
            "grid_template_columns": null,
            "grid_template_rows": null,
            "height": null,
            "justify_content": null,
            "justify_items": null,
            "left": null,
            "margin": null,
            "max_height": null,
            "max_width": null,
            "min_height": null,
            "min_width": null,
            "object_fit": null,
            "object_position": null,
            "order": null,
            "overflow": null,
            "overflow_x": null,
            "overflow_y": null,
            "padding": null,
            "right": null,
            "top": null,
            "visibility": null,
            "width": null
          }
        },
        "55320cfb702642b293d7cd8e5d0661b2": {
          "model_module": "@jupyter-widgets/controls",
          "model_name": "DescriptionStyleModel",
          "model_module_version": "1.5.0",
          "state": {
            "_model_module": "@jupyter-widgets/controls",
            "_model_module_version": "1.5.0",
            "_model_name": "DescriptionStyleModel",
            "_view_count": null,
            "_view_module": "@jupyter-widgets/base",
            "_view_module_version": "1.2.0",
            "_view_name": "StyleView",
            "description_width": ""
          }
        },
        "a2b3998024544c3fb65a61c1468d3845": {
          "model_module": "@jupyter-widgets/base",
          "model_name": "LayoutModel",
          "model_module_version": "1.2.0",
          "state": {
            "_model_module": "@jupyter-widgets/base",
            "_model_module_version": "1.2.0",
            "_model_name": "LayoutModel",
            "_view_count": null,
            "_view_module": "@jupyter-widgets/base",
            "_view_module_version": "1.2.0",
            "_view_name": "LayoutView",
            "align_content": null,
            "align_items": null,
            "align_self": null,
            "border": null,
            "bottom": null,
            "display": null,
            "flex": null,
            "flex_flow": null,
            "grid_area": null,
            "grid_auto_columns": null,
            "grid_auto_flow": null,
            "grid_auto_rows": null,
            "grid_column": null,
            "grid_gap": null,
            "grid_row": null,
            "grid_template_areas": null,
            "grid_template_columns": null,
            "grid_template_rows": null,
            "height": null,
            "justify_content": null,
            "justify_items": null,
            "left": null,
            "margin": null,
            "max_height": null,
            "max_width": null,
            "min_height": null,
            "min_width": null,
            "object_fit": null,
            "object_position": null,
            "order": null,
            "overflow": null,
            "overflow_x": null,
            "overflow_y": null,
            "padding": null,
            "right": null,
            "top": null,
            "visibility": null,
            "width": null
          }
        }
      }
    }
  },
  "cells": [
    {
      "cell_type": "markdown",
      "source": [
        "##Step 1: Install Dependencies\n"
      ],
      "metadata": {
        "id": "s4eAosSFHlNJ"
      }
    },
    {
      "cell_type": "code",
      "execution_count": 1,
      "metadata": {
        "colab": {
          "base_uri": "https://localhost:8080/"
        },
        "id": "ytuKlb9XHMKe",
        "outputId": "75a762f5-0800-4a33-b682-09584ca7758c"
      },
      "outputs": [
        {
          "output_type": "stream",
          "name": "stdout",
          "text": [
            "Requirement already satisfied: pyspark in /usr/local/lib/python3.12/dist-packages (3.5.1)\n",
            "Requirement already satisfied: textblob in /usr/local/lib/python3.12/dist-packages (0.19.0)\n",
            "Collecting newsapi-python\n",
            "  Downloading newsapi_python-0.2.7-py2.py3-none-any.whl.metadata (1.2 kB)\n",
            "Requirement already satisfied: py4j==0.10.9.7 in /usr/local/lib/python3.12/dist-packages (from pyspark) (0.10.9.7)\n",
            "Requirement already satisfied: nltk>=3.9 in /usr/local/lib/python3.12/dist-packages (from textblob) (3.9.1)\n",
            "Requirement already satisfied: requests<3.0.0 in /usr/local/lib/python3.12/dist-packages (from newsapi-python) (2.32.4)\n",
            "Requirement already satisfied: click in /usr/local/lib/python3.12/dist-packages (from nltk>=3.9->textblob) (8.2.1)\n",
            "Requirement already satisfied: joblib in /usr/local/lib/python3.12/dist-packages (from nltk>=3.9->textblob) (1.5.2)\n",
            "Requirement already satisfied: regex>=2021.8.3 in /usr/local/lib/python3.12/dist-packages (from nltk>=3.9->textblob) (2024.11.6)\n",
            "Requirement already satisfied: tqdm in /usr/local/lib/python3.12/dist-packages (from nltk>=3.9->textblob) (4.67.1)\n",
            "Requirement already satisfied: charset_normalizer<4,>=2 in /usr/local/lib/python3.12/dist-packages (from requests<3.0.0->newsapi-python) (3.4.3)\n",
            "Requirement already satisfied: idna<4,>=2.5 in /usr/local/lib/python3.12/dist-packages (from requests<3.0.0->newsapi-python) (3.10)\n",
            "Requirement already satisfied: urllib3<3,>=1.21.1 in /usr/local/lib/python3.12/dist-packages (from requests<3.0.0->newsapi-python) (2.5.0)\n",
            "Requirement already satisfied: certifi>=2017.4.17 in /usr/local/lib/python3.12/dist-packages (from requests<3.0.0->newsapi-python) (2025.8.3)\n",
            "Downloading newsapi_python-0.2.7-py2.py3-none-any.whl (7.9 kB)\n",
            "Installing collected packages: newsapi-python\n",
            "Successfully installed newsapi-python-0.2.7\n"
          ]
        }
      ],
      "source": [
        "!pip install pyspark textblob newsapi-python"
      ]
    },
    {
      "cell_type": "markdown",
      "source": [
        "##Step 2: Imports and Spark Session Setup\n"
      ],
      "metadata": {
        "id": "pWkn6yxYHrpL"
      }
    },
    {
      "cell_type": "code",
      "source": [
        "import os\n",
        "import requests\n",
        "from pyspark.sql import SparkSession\n",
        "from pyspark.sql.functions import udf\n",
        "from pyspark.sql.types import StringType\n",
        "from textblob import TextBlob\n",
        "from typing import List, Dict\n",
        "from getpass import getpass\n",
        "\n",
        "spark = (\n",
        "    SparkSession.builder\n",
        "    .appName(\"ColabNewsSentimentAnalysis\")\n",
        "    .master(\"local[*]\")\n",
        "    .getOrCreate()\n",
        ")"
      ],
      "metadata": {
        "id": "0LUPtzdIHsoO"
      },
      "execution_count": 2,
      "outputs": []
    },
    {
      "cell_type": "markdown",
      "source": [
        "##Step 3: News Fetching Function\n"
      ],
      "metadata": {
        "id": "h3zH3GDTH2tF"
      }
    },
    {
      "cell_type": "code",
      "source": [
        "def fetch_latest_news(api_key: str, query: str = 'technology') -> list[dict]:\n",
        "    url = f\"https://newsdata.io/api/1/news?apikey={api_key}&q={query}&language=en\"\n",
        "\n",
        "    try:\n",
        "        response = requests.get(url)\n",
        "        response.raise_for_status()\n",
        "        data = response.json()\n",
        "\n",
        "        articles = data.get('results', [])\n",
        "\n",
        "        formatted_articles = [\n",
        "            {\n",
        "                \"title\": article.get(\"title\"),\n",
        "                \"description\": article.get(\"description\"),\n",
        "                \"url\": article.get(\"link\"),\n",
        "                \"source\": article.get(\"source_id\")\n",
        "            }\n",
        "            for article in articles if article.get(\"title\")\n",
        "        ]\n",
        "        return formatted_articles\n",
        "\n",
        "    except requests.exceptions.RequestException as e:\n",
        "        print(f\"Error fetching news: {e}\")\n",
        "        return []\n",
        "\n",
        "NEWSDATA_API_KEY = getpass('Enter your newsdata.io API key: ')"
      ],
      "metadata": {
        "colab": {
          "base_uri": "https://localhost:8080/"
        },
        "id": "bJV3wJhuH021",
        "outputId": "5aea3234-539b-41ab-e0a5-a3de62c7e06e"
      },
      "execution_count": 3,
      "outputs": [
        {
          "name": "stdout",
          "output_type": "stream",
          "text": [
            "Enter your newsdata.io API key: ··········\n"
          ]
        }
      ]
    },
    {
      "cell_type": "markdown",
      "source": [
        "##Step 4: Sentiment Analysis"
      ],
      "metadata": {
        "id": "bVyyzUA3Iosq"
      }
    },
    {
      "cell_type": "code",
      "metadata": {
        "id": "7dc9f673"
      },
      "source": [
        "def classify_sentiment(text: str) -> str:\n",
        "    if not text:\n",
        "        return 'Neutral'\n",
        "    analysis = TextBlob(text)\n",
        "    polarity = analysis.sentiment.polarity\n",
        "    if polarity > 0.1:\n",
        "        return 'Positive'\n",
        "    elif polarity < -0.1:\n",
        "        return 'Negative'\n",
        "    else:\n",
        "        return 'Neutral'\n",
        "\n",
        "def analyze_news_sentiment(articles: List[Dict]) -> List[Dict]:\n",
        "    if not articles:\n",
        "        return []\n",
        "\n",
        "    news_df = spark.createDataFrame(articles)\n",
        "\n",
        "    sentiment_udf = udf(classify_sentiment, StringType())\n",
        "\n",
        "    classified_df = news_df.withColumn(\"sentiment\", sentiment_udf(news_df[\"title\"]))\n",
        "\n",
        "    results = [row.asDict() for row in classified_df.collect()]\n",
        "    return results"
      ],
      "execution_count": 4,
      "outputs": []
    },
    {
      "cell_type": "code",
      "source": [
        "print(\"Fetching latest news from newsdata.io...\")\n",
        "raw_articles = fetch_latest_news(NEWSDATA_API_KEY, query='India')\n",
        "\n",
        "if raw_articles:\n",
        "    print(f\"Fetched {len(raw_articles)} articles. Analyzing sentiment with PySpark...\")\n",
        "    classified_articles = analyze_news_sentiment(raw_articles)\n",
        "    print(\"Analysis complete!\")\n",
        "\n",
        "    for article in classified_articles[:5]:\n",
        "        print(f\"\\nTitle: {article['title']}\")\n",
        "        print(f\"Sentiment: {article['sentiment']}\")\n",
        "else:\n",
        "    print(\"Could not fetch any articles.\")"
      ],
      "metadata": {
        "colab": {
          "base_uri": "https://localhost:8080/"
        },
        "id": "SnYKlCSWIlsZ",
        "outputId": "4b8eac5e-ae52-48de-c5ab-cd6fdb9b0ee7"
      },
      "execution_count": 11,
      "outputs": [
        {
          "output_type": "stream",
          "name": "stdout",
          "text": [
            "Fetching latest news from newsdata.io...\n",
            "Fetched 10 articles. Analyzing sentiment with PySpark...\n",
            "Analysis complete!\n",
            "\n",
            "Title: Fergus Wilson: ‘I’ve got months to live - but I want my day in court’\n",
            "Sentiment: Positive\n",
            "\n",
            "Title: 11 of the best hotels in Goa\n",
            "Sentiment: Positive\n",
            "\n",
            "Title: Suryakumar Yadav Blasts Mohsin Naqvi For Running Away With Asia Cup Trophy: 'Have Never Seen...'\n",
            "Sentiment: Neutral\n",
            "\n",
            "Title: IN THE DOCK: Burglar behind bars for targeting businesses and more cases from court\n",
            "Sentiment: Neutral\n",
            "\n",
            "Title: Govt Releases PM E-DRIVE Guidelines For EV Charging Stations In India\n",
            "Sentiment: Neutral\n"
          ]
        }
      ]
    },
    {
      "cell_type": "markdown",
      "source": [
        "##Display Articles by Sentiment"
      ],
      "metadata": {
        "id": "mziuAgEdOHTY"
      }
    },
    {
      "cell_type": "code",
      "source": [
        "from ipywidgets import Dropdown, Output, VBox\n",
        "from IPython.display import display\n",
        "\n",
        "sentiment_counts = {}\n",
        "for article in classified_articles:\n",
        "    sentiment = article['sentiment']\n",
        "    sentiment_counts[sentiment] = sentiment_counts.get(sentiment, 0) + 1\n",
        "\n",
        "sentiment_dropdown = Dropdown(\n",
        "    options=list(sentiment_counts.keys()),\n",
        "    description='Sentiment:',\n",
        ")\n",
        "\n",
        "output_widget = Output()\n",
        "\n",
        "def display_articles_by_sentiment(sentiment):\n",
        "    with output_widget:\n",
        "        output_widget.clear_output()\n",
        "        print(f\"Articles with {sentiment} sentiment:\")\n",
        "        count = 0\n",
        "        for article in classified_articles:\n",
        "            if article['sentiment'] == sentiment and count < 5:\n",
        "                print(f\"- {article['title']}\")\n",
        "                count += 1\n",
        "        if count == 0:\n",
        "            print(\"No articles found for this sentiment.\")\n",
        "\n",
        "sentiment_dropdown.observe(lambda change: display_articles_by_sentiment(change['new']), names='value')\n",
        "\n",
        "display(VBox([sentiment_dropdown, output_widget]))\n",
        "\n",
        "display_articles_by_sentiment(sentiment_dropdown.value)"
      ],
      "metadata": {
        "colab": {
          "base_uri": "https://localhost:8080/",
          "height": 101,
          "referenced_widgets": [
            "ccecce85a16e4d61a088a01a73dd8c14",
            "a480ca5f5cde49298f4be74e9c0eb8e7",
            "4d889317b5c14e298f199436d506dbf7",
            "76e9530cbf634ee8ae8362a9fe3de307",
            "7d87a93977fb48099addd40e5fc9d812",
            "55320cfb702642b293d7cd8e5d0661b2",
            "a2b3998024544c3fb65a61c1468d3845"
          ]
        },
        "id": "CQf3_rReNHVH",
        "outputId": "f307eac3-ab6d-4055-eae4-ba67c04dc9e4"
      },
      "execution_count": 13,
      "outputs": [
        {
          "output_type": "display_data",
          "data": {
            "text/plain": [
              "VBox(children=(Dropdown(description='Sentiment:', options=('Positive', 'Neutral', 'Negative'), value='Positive…"
            ],
            "application/vnd.jupyter.widget-view+json": {
              "version_major": 2,
              "version_minor": 0,
              "model_id": "ccecce85a16e4d61a088a01a73dd8c14"
            }
          },
          "metadata": {}
        }
      ]
    },
    {
      "cell_type": "code",
      "metadata": {
        "colab": {
          "base_uri": "https://localhost:8080/",
          "height": 675
        },
        "id": "705471c6",
        "outputId": "2925c042-e835-444b-cb19-d521a35cc3c1"
      },
      "source": [
        "import matplotlib.pyplot as plt\n",
        "\n",
        "labels = sentiment_counts.keys()\n",
        "sizes = sentiment_counts.values()\n",
        "colors = ['green', 'red', 'gray']\n",
        "\n",
        "plt.figure(figsize=(8, 8))\n",
        "plt.pie(sizes, labels=labels, colors=colors, autopct='%1.1f%%', startangle=140)\n",
        "plt.title('Distribution of News Sentiment')\n",
        "plt.axis('equal')\n",
        "plt.show()"
      ],
      "execution_count": 14,
      "outputs": [
        {
          "output_type": "display_data",
          "data": {
            "text/plain": [
              "<Figure size 800x800 with 1 Axes>"
            ],
            "image/png": "[encoded data removed]"
          },
          "metadata": {}
        }
      ]
    }
  ]
}